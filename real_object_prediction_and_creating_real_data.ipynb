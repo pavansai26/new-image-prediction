{
  "nbformat": 4,
  "nbformat_minor": 0,
  "metadata": {
    "colab": {
      "name": "real object prediction and creating real data.ipynb",
      "provenance": [],
      "private_outputs": true,
      "include_colab_link": true
    },
    "kernelspec": {
      "name": "python3",
      "display_name": "Python 3"
    }
  },
  "cells": [
    {
      "cell_type": "markdown",
      "metadata": {
        "id": "view-in-github",
        "colab_type": "text"
      },
      "source": [
        "<a href=\"https://colab.research.google.com/github/pavansai26/new-image-prediction/blob/master/real_object_prediction_and_creating_real_data.ipynb\" target=\"_parent\"><img src=\"https://colab.research.google.com/assets/colab-badge.svg\" alt=\"Open In Colab\"/></a>"
      ]
    },
    {
      "cell_type": "code",
      "metadata": {
        "id": "vZH3U6TnzfN9",
        "colab_type": "code",
        "colab": {}
      },
      "source": [
        "import numpy as np\n",
        "import matplotlib.pyplot as plt\n",
        "import os\n",
        "import cv2\n",
        "from tqdm import tqdm"
      ],
      "execution_count": 0,
      "outputs": []
    },
    {
      "cell_type": "code",
      "metadata": {
        "id": "WT2emt3Yz2A5",
        "colab_type": "code",
        "colab": {}
      },
      "source": [
        "from google.colab import drive\n",
        "drive.mount('/gdrive')"
      ],
      "execution_count": 0,
      "outputs": []
    },
    {
      "cell_type": "code",
      "metadata": {
        "id": "64PSISL68xQm",
        "colab_type": "code",
        "colab": {}
      },
      "source": [
        "DATADIR='/gdrive/My Drive/natural images/'\n",
        "labels=['flower/natural_images/flower','fruit/natural_images/fruit','mobiles','motorbike/natural_images/motorbike','person/natural_images/person']"
      ],
      "execution_count": 0,
      "outputs": []
    },
    {
      "cell_type": "code",
      "metadata": {
        "id": "zjv3KCyzBBgH",
        "colab_type": "code",
        "colab": {}
      },
      "source": [
        "training_data = []\n",
        "for category in labels:  # do dogs and cats\n",
        "  path = os.path.join(DATADIR,category)  # create path to dogs and cats\n",
        "  class_num = labels.index(category)  # get the classification  (0 or a 1). 0=dog 1=cat\n",
        "  for img in tqdm(os.listdir(path)):  # iterate over each image per dogs and cats\n",
        "    try:\n",
        "      img_array = cv2.imread(os.path.join(path,img) ,cv2.IMREAD_GRAYSCALE)  # convert to array\n",
        "      new_array = cv2.resize(img_array, (50,50))  # resize to normalize data size\n",
        "      training_data.append([new_array, class_num])  # add this to our training_data\n",
        "    except Exception as e:  # in the interest in keeping the output clean...\n",
        "      pass\n",
        "            #except OSError as e:\n",
        "            #    print(\"OSErrroBad img most likely\", e, os.path.join(path,img))\n",
        "            #except Exception as e:\n",
        "            #    print(\"general exception\", e, os.path.join(path,img))\n",
        "\n",
        "\n",
        "\n",
        "print(len(training_data))"
      ],
      "execution_count": 0,
      "outputs": []
    },
    {
      "cell_type": "code",
      "metadata": {
        "id": "DzJQZPLUBXed",
        "colab_type": "code",
        "colab": {}
      },
      "source": [
        "import random\n",
        "random.shuffle(training_data)"
      ],
      "execution_count": 0,
      "outputs": []
    },
    {
      "cell_type": "code",
      "metadata": {
        "id": "FmKq6JQjIlpI",
        "colab_type": "code",
        "colab": {}
      },
      "source": [
        "X1 = []\n",
        "y1 = []"
      ],
      "execution_count": 0,
      "outputs": []
    },
    {
      "cell_type": "code",
      "metadata": {
        "id": "x_Op7dXpIrhQ",
        "colab_type": "code",
        "colab": {}
      },
      "source": [
        "for features,label in training_data:\n",
        "    X1.append(features)\n",
        "    y1.append(label)\n",
        "#print(X1[0].reshape(-1, IMG_SIZE, IMG_SIZE, 1))\n",
        "\n",
        "X2 = np.array(X1).reshape(-1, 50,50, 1)"
      ],
      "execution_count": 0,
      "outputs": []
    },
    {
      "cell_type": "code",
      "metadata": {
        "id": "JXVOjIVZIvGm",
        "colab_type": "code",
        "colab": {}
      },
      "source": [
        "import pickle\n",
        "\n",
        "pickle_out = open(\"X3.pickle\",\"wb\")\n",
        "pickle.dump(X2, pickle_out)\n",
        "pickle_out.close()\n",
        "\n",
        "pickle_out = open(\"y2.pickle\",\"wb\")\n",
        "pickle.dump(y1, pickle_out)\n",
        "pickle_out.close()"
      ],
      "execution_count": 0,
      "outputs": []
    },
    {
      "cell_type": "code",
      "metadata": {
        "id": "aj7eoqw8IzNi",
        "colab_type": "code",
        "colab": {}
      },
      "source": [
        "pickle_in = open(\"X3.pickle\",\"rb\")\n",
        "X4 = pickle.load(pickle_in)\n",
        "\n",
        "pickle_in = open(\"y2.pickle\",\"rb\")\n",
        "y3 = pickle.load(pickle_in)\n",
        "X5 = X4/255.0"
      ],
      "execution_count": 0,
      "outputs": []
    },
    {
      "cell_type": "code",
      "metadata": {
        "id": "kbNihoC5I2zP",
        "colab_type": "code",
        "colab": {}
      },
      "source": [
        "ip=np.array(X5)"
      ],
      "execution_count": 0,
      "outputs": []
    },
    {
      "cell_type": "code",
      "metadata": {
        "id": "EsrLSRZ2I6Fo",
        "colab_type": "code",
        "colab": {}
      },
      "source": [
        "target=np.array(y3)"
      ],
      "execution_count": 0,
      "outputs": []
    },
    {
      "cell_type": "code",
      "metadata": {
        "id": "8j_L55TbI9FT",
        "colab_type": "code",
        "colab": {}
      },
      "source": [
        "import tensorflow as tf"
      ],
      "execution_count": 0,
      "outputs": []
    },
    {
      "cell_type": "code",
      "metadata": {
        "id": "S2YRS6LvJAcp",
        "colab_type": "code",
        "colab": {}
      },
      "source": [
        "model1=tf.keras.models.Sequential([tf.keras.layers.Conv2D(64,(3,3),activation='relu',\n",
        "                                                          input_shape=(ip.shape[1:])),\n",
        "                                 tf.keras.layers.MaxPooling2D(2,2),\n",
        "                                 tf.keras.layers.Conv2D(128,(3,3),activation='relu'),\n",
        "                                 tf.keras.layers.MaxPooling2D(2,2),\n",
        "                                 tf.keras.layers.Conv2D(256,(3,3),activation='relu'),\n",
        "                                 tf.keras.layers.MaxPooling2D(2,2),\n",
        "                                 tf.keras.layers.Flatten(),\n",
        "                                 tf.keras.layers.Dense(128,activation=tf.nn.relu),\n",
        "                                 tf.keras.layers.Dropout(0.1),\n",
        "                                 tf.keras.layers.Dense(512,activation=tf.nn.relu),\n",
        "                                 tf.keras.layers.Dense(5,activation='softmax')])\n",
        "\n",
        "                                 \n"
      ],
      "execution_count": 0,
      "outputs": []
    },
    {
      "cell_type": "code",
      "metadata": {
        "id": "YiNQv5fAJa_N",
        "colab_type": "code",
        "colab": {}
      },
      "source": [
        "model1.compile(loss='sparse_categorical_crossentropy',\n",
        "              optimizer='adam',\n",
        "              metrics=['accuracy'])"
      ],
      "execution_count": 0,
      "outputs": []
    },
    {
      "cell_type": "code",
      "metadata": {
        "id": "GYJz98APJqne",
        "colab_type": "code",
        "colab": {}
      },
      "source": [
        "ip.shape"
      ],
      "execution_count": 0,
      "outputs": []
    },
    {
      "cell_type": "code",
      "metadata": {
        "id": "UaY4gkb6Jv-2",
        "colab_type": "code",
        "colab": {}
      },
      "source": [
        "model1.fit(ip,y3,epochs=10)"
      ],
      "execution_count": 0,
      "outputs": []
    },
    {
      "cell_type": "code",
      "metadata": {
        "id": "XP-w_UThJz8P",
        "colab_type": "code",
        "colab": {}
      },
      "source": [
        "ss=model1.predict(ip)"
      ],
      "execution_count": 0,
      "outputs": []
    },
    {
      "cell_type": "code",
      "metadata": {
        "id": "TX2muSNoML-t",
        "colab_type": "code",
        "colab": {}
      },
      "source": [
        "ss.shape"
      ],
      "execution_count": 0,
      "outputs": []
    },
    {
      "cell_type": "code",
      "metadata": {
        "id": "yiFtVB2aMR2j",
        "colab_type": "code",
        "colab": {}
      },
      "source": [
        "from google.colab import files\n",
        "uploaded=files.upload()"
      ],
      "execution_count": 0,
      "outputs": []
    },
    {
      "cell_type": "code",
      "metadata": {
        "id": "IeibW40cSbtE",
        "colab_type": "code",
        "colab": {}
      },
      "source": [
        "import sys\n",
        "sys.path.append('')"
      ],
      "execution_count": 0,
      "outputs": []
    },
    {
      "cell_type": "code",
      "metadata": {
        "id": "2cEGhIJSWCtX",
        "colab_type": "code",
        "colab": {}
      },
      "source": [
        "import tkinter as tk\n",
        "from tkinter import filedialog\n",
        "root=tk.Tk()\n",
        "root.withdraw()\n",
        "filepath=filedialog.askopenfilename()\n",
        "print(filepath)\n",
        "input('press any key to exit')"
      ],
      "execution_count": 0,
      "outputs": []
    },
    {
      "cell_type": "code",
      "metadata": {
        "id": "sWXukK_4M1HD",
        "colab_type": "code",
        "colab": {}
      },
      "source": [
        "img_array = cv2.imread('download ball.jpg' ,cv2.IMREAD_GRAYSCALE)  \n",
        "new_array = cv2.resize(img_array, (50,50))  "
      ],
      "execution_count": 0,
      "outputs": []
    },
    {
      "cell_type": "code",
      "metadata": {
        "id": "ieTxvbn8NHir",
        "colab_type": "code",
        "colab": {}
      },
      "source": [
        "g=np.array(new_array).reshape(1,50,50,1)"
      ],
      "execution_count": 0,
      "outputs": []
    },
    {
      "cell_type": "code",
      "metadata": {
        "id": "vQeqWlbmNLmC",
        "colab_type": "code",
        "colab": {}
      },
      "source": [
        "prob=model1.predict(g)\n",
        "prob"
      ],
      "execution_count": 0,
      "outputs": []
    },
    {
      "cell_type": "code",
      "metadata": {
        "id": "U_wOduI5NPeg",
        "colab_type": "code",
        "colab": {}
      },
      "source": [
        "accu=model1.predict_proba(g)\n",
        "accu.shape"
      ],
      "execution_count": 0,
      "outputs": []
    },
    {
      "cell_type": "code",
      "metadata": {
        "id": "ARQ5QlKXNWPQ",
        "colab_type": "code",
        "colab": {}
      },
      "source": [
        "number_to_class=['flower','fruit','mobile','motorbike','person']\n",
        "sorti=np.argmax(prob)\n",
        "print('most likely class:',number_to_class[sorti])\n",
        "from sklearn.metrics import accuracy_score\n",
        "accuracy=accuracy_score(prob,accu)\n",
        "if accuracy<0.75:\n",
        "  print('i am not well trained')\n",
        "else:\n",
        "  print(accuracy*100,'%')\n",
        "\n",
        "#print(model1.evaluate(prob,number_to_class[sorti]))"
      ],
      "execution_count": 0,
      "outputs": []
    },
    {
      "cell_type": "code",
      "metadata": {
        "id": "mM7q3EcwNz06",
        "colab_type": "code",
        "colab": {}
      },
      "source": [
        "import numpy as np\n",
        "import cv2\n",
        "\n",
        "cap = cv2.VideoCapture(0)\n",
        "\n",
        "while(True):\n",
        "    # Capture frame-by-frame\n",
        "    ret, frame = cap.read()\n",
        "\n",
        "    # Our operations on the frame come here\n",
        "    gray = cv2.cvtColor(frame, cv2.COLOR_BGR2GRAY)\n",
        "\n",
        "    # Display the resulting frame\n",
        "    cv2.imshow('frame',gray)\n",
        "    if cv2.waitKey(1) & 0xFF == ord('q'):\n",
        "        break\n",
        "\n",
        "# When everything done, release the capture\n",
        "cap.release()\n",
        "#cv2.destroyAllWindows()"
      ],
      "execution_count": 0,
      "outputs": []
    },
    {
      "cell_type": "code",
      "metadata": {
        "id": "4TpGHSUOanp9",
        "colab_type": "code",
        "colab": {}
      },
      "source": [
        ""
      ],
      "execution_count": 0,
      "outputs": []
    }
  ]
}